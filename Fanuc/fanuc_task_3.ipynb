{
 "cells": [
  {
   "cell_type": "code",
   "execution_count": 3,
   "metadata": {},
   "outputs": [],
   "source": [
    "#!/usr/bin/env python\n",
    "\n",
    "from fanuc_pcdk_client import FanucPCDKClient\n",
    "from robot_loc_world import RobotLocWorld\n",
    "from robot_loc_joint import RobotLocJoint\n",
    "from time import sleep\n",
    "import random\n",
    "\n",
    "\n",
    "ROBOT_SPEED = 100\n",
    "ROBOT_SPEED_LINEAR = 100"
   ]
  },
  {
   "cell_type": "code",
   "execution_count": 4,
   "metadata": {},
   "outputs": [
    {
     "name": "stdout",
     "output_type": "stream",
     "text": [
      "Connecting to robot at 192.168.1.1\n",
      "Robot Status: \u001b[32mConnected\n",
      "\u001b[0m\n"
     ]
    }
   ],
   "source": [
    "# Robot init\n",
    "robot = FanucPCDKClient()\n",
    "robot.connect()\n",
    "\n",
    "# Run teach pendant program.\n",
    "robot.run_program('PCDK')\n",
    "robot.reset_alarms()\n",
    "\n",
    "# Adjust the speed of the robot\n",
    "robot.set_speed(ROBOT_SPEED)"
   ]
  },
  {
   "cell_type": "markdown",
   "metadata": {},
   "source": [
    "## Robot Motion"
   ]
  },
  {
   "cell_type": "markdown",
   "metadata": {},
   "source": [
    "There are three motions the robot can perform. Joint movements, world movements, and linear movements."
   ]
  },
  {
   "cell_type": "code",
   "execution_count": 3,
   "metadata": {},
   "outputs": [],
   "source": [
    "# Move robot using joint coordinates\n",
    "joint_loc = RobotLocJoint(j1=20, j2=0, j3=-15, j4=0, j5=-25, j6=0)\n",
    "robot.move_joint(joint_loc)"
   ]
  },
  {
   "cell_type": "markdown",
   "metadata": {},
   "source": [
    "You can retrieve the current location of the robot in either joint or world coordinates with the following commands:"
   ]
  },
  {
   "cell_type": "code",
   "execution_count": 67,
   "metadata": {},
   "outputs": [
    {
     "name": "stdout",
     "output_type": "stream",
     "text": [
      "Current world location: x=339.360; y=-561.022; z=-226.683; w=50.776; p=-87.118; r=40.197; f=False; u=True; t=True\n",
      "\n",
      "Current joint location: j1=-43.839; j2=96.524; j3=-48.730; j4=127.854; j5=-63.830; j6=-146.362\n",
      "\n"
     ]
    }
   ],
   "source": [
    "# Retrieve the current world XYZWPR coordinates of the robot\n",
    "loc_world = robot.get_position(\"world\")\n",
    "print(f'Current world location: {loc_world}\\n')\n",
    "\n",
    "# Retrieve the current joint coordinates of the robot\n",
    "loc_joint = robot.get_position(\"joint\")\n",
    "print(f'Current joint location: {loc_joint}\\n')"
   ]
  },
  {
   "cell_type": "code",
   "execution_count": 3,
   "metadata": {},
   "outputs": [],
   "source": [
    "penup = [RobotLocWorld(x=339.358, y=-570.557, z=-170.0, w=50.701, p=-87.118, r=40.271, f=False, u=True, t=True),\n",
    "        RobotLocWorld(x=251.525, y=-570.557, z=-170.0, w=50.701, p=-87.118, r=40.271, f=False, u=True, t=True),\n",
    "        RobotLocWorld(x=178.078, y=-570.557, z=-170.0, w=50.701, p=-87.118, r=40.271, f=False, u=True, t=True)]\n",
    "\n",
    "pendown = [RobotLocWorld(x=339.358,y=-570.557, z=-226.683, w=50.701, p=-87.118, r=40.271, f=False, u=True, t=True),\n",
    "             RobotLocWorld(x=251.525, y=-570.557, z=-226.683, w=50.701, p=-87.118, r=40.271, f=False, u=True, t=True),\n",
    "             RobotLocWorld(x=178.078, y=-570.557, z=-226.683, w=50.701, p=-87.118, r=40.271, f=False, u=True, t=True)]\n",
    "\n",
    "start_pos = RobotLocWorld(x=30.567, y=-500.840, z=-238.537, w=50.748, p=-87.120, r=40.224, f=False, u=True, t=True)\n",
    "marker_pickup = RobotLocWorld(x=24.714, y=-623.814, z=-238.704, w=51.091, p=-87.130, r=39.914, f=False, u=True, t=True)\n",
    "post_marker_pickup = RobotLocWorld(x=24.714, y=-623.814, z=-170.0, w=51.091, p=-87.130, r=39.914, f=False, u=True, t=True)\n",
    "\n",
    "\n",
    "# robot.move(start_pos, move_linear=True, speed=ROBOT_SPEED_LINEAR)\n",
    "# robot.move(marker_pickup, move_linear=True, speed=ROBOT_SPEED_LINEAR)\n",
    "# robot.open_gripper()\n",
    "robot.move(post_marker_pickup, move_linear=True, speed=ROBOT_SPEED_LINEAR)\n",
    "robot.move(penup[0], move_linear=True, speed=ROBOT_SPEED_LINEAR)\n"
   ]
  },
  {
   "cell_type": "code",
   "execution_count": 70,
   "metadata": {},
   "outputs": [
    {
     "name": "stdout",
     "output_type": "stream",
     "text": [
      "251.525\n"
     ]
    }
   ],
   "source": [
    "print(pendown[0].x)"
   ]
  },
  {
   "cell_type": "markdown",
   "metadata": {},
   "source": []
  },
  {
   "cell_type": "code",
   "execution_count": null,
   "metadata": {},
   "outputs": [],
   "source": [
    "# S L O W U B\n",
    "letters = []\n",
    "print('what 3 letters do you want from this selection? S L O W U B')\n",
    "letter = input('1st letter \\n')\n",
    "letters.append(letter)\n",
    "letter = input('2nd letter \\n')\n",
    "letters.append(letter)\n",
    "letter = input('3rd letter \\n')\n",
    "letters.append(letter)\n",
    "\n",
    "print(letters)\n",
    "\n",
    "for i in range(0,0):\n",
    "    random_integer = random.randint(0, len(letters)-1)\n",
    "    \n",
    "    S_offset = [(10,5),(-20,-10),()]\n",
    "    L_offset = [(),()]\n",
    "    O_offset = [(),(),(),()]\n",
    "    W_offset = [(),(),(),()]\n",
    "    U_offset = [(),(),()]\n",
    "    B_offset = [(),(),(),(),(),(),()]\n",
    "    \n",
    "    #do the thing\n",
    "    print(letters[random_integer])\n",
    "    \n",
    "    if letters[random_integer] == \"S\":\n",
    "        print(letters[random_integer])\n",
    "        for (x_offset,y_offset) in S_offset:\n",
    "            robot.move(RobotLocWorld(x=pendown[0].x + x_offset, y=pendown[0].y + y_offset, z=pendown[0].z, w=50.701, p=-87.118, r=40.271, f=False, u=True, t=True), move_linear=True, speed=ROBOT_SPEED_LINEAR)\n",
    "        \n",
    "    elif letters[random_integer] == \"L\":\n",
    "        print(letters[random_integer])\n",
    "        \n",
    "    elif letters[random_integer] == \"O\":\n",
    "        print(letters[random_integer])\n",
    "       \n",
    "    elif letters[random_integer] == \"W\":\n",
    "        print(letters[random_integer])\n",
    "        \n",
    "    elif letters[random_integer] == \"U\":\n",
    "        print(letters[random_integer])\n",
    "       \n",
    "    elif letters[random_integer] == \"B\":\n",
    "        print(letters[random_integer])\n",
    "        \n",
    "    else:\n",
    "        print('error in letter selected')\n",
    "\n",
    "    letters.pop(random_integer)\n",
    "\n"
   ]
  },
  {
   "cell_type": "code",
   "execution_count": 17,
   "metadata": {},
   "outputs": [
    {
     "name": "stdout",
     "output_type": "stream",
     "text": [
      "> Already at location; skipping move\n"
     ]
    }
   ],
   "source": [
    "robot.move(pre_grip[1], move_linear=True, speed=ROBOT_SPEED_LINEAR)"
   ]
  },
  {
   "cell_type": "code",
   "execution_count": 6,
   "metadata": {},
   "outputs": [],
   "source": [
    "robot.move(post_grip[1], move_linear=True, speed=ROBOT_SPEED_LINEAR)"
   ]
  },
  {
   "cell_type": "code",
   "execution_count": 75,
   "metadata": {},
   "outputs": [],
   "source": [
    "robot.move(dropoff_pos[2], move_linear=True, speed=ROBOT_SPEED_LINEAR)"
   ]
  },
  {
   "cell_type": "code",
   "execution_count": 10,
   "metadata": {},
   "outputs": [],
   "source": [
    "robot.move(pre_dropoff, move_linear=True, speed=ROBOT_SPEED_LINEAR)"
   ]
  },
  {
   "cell_type": "code",
   "execution_count": null,
   "metadata": {},
   "outputs": [],
   "source": [
    "RobotLocWorld(x=362.007, y=-20.024, z=-382.566, w=-180.000, p=0.0, r=-90, f=False, u=True, t=True)\n",
    "robot.move(pre_enter_pos, move_linear=True, speed=ROBOT_SPEED_LINEAR)"
   ]
  },
  {
   "cell_type": "markdown",
   "metadata": {},
   "source": [
    "## Gripper Actuation"
   ]
  },
  {
   "cell_type": "code",
   "execution_count": 34,
   "metadata": {},
   "outputs": [],
   "source": [
    "# Close gripper\n",
    "robot.open_gripper()"
   ]
  },
  {
   "cell_type": "code",
   "execution_count": 82,
   "metadata": {},
   "outputs": [],
   "source": [
    "# Open Gripper\n",
    "robot.close_gripper()"
   ]
  },
  {
   "cell_type": "markdown",
   "metadata": {},
   "source": [
    "## Close connection with robot"
   ]
  },
  {
   "cell_type": "code",
   "execution_count": null,
   "metadata": {},
   "outputs": [],
   "source": [
    "# Close the connection to the Fanuc PCDK server\n",
    "robot.close_connection()"
   ]
  },
  {
   "cell_type": "code",
   "execution_count": null,
   "metadata": {},
   "outputs": [],
   "source": []
  }
 ],
 "metadata": {
  "kernelspec": {
   "display_name": "Python 3",
   "language": "python",
   "name": "python3"
  },
  "language_info": {
   "codemirror_mode": {
    "name": "ipython",
    "version": 3
   },
   "file_extension": ".py",
   "mimetype": "text/x-python",
   "name": "python",
   "nbconvert_exporter": "python",
   "pygments_lexer": "ipython3",
   "version": "3.7.3"
  }
 },
 "nbformat": 4,
 "nbformat_minor": 2
}
