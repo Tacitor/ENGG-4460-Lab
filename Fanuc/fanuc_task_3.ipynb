{
 "cells": [
  {
   "cell_type": "code",
   "execution_count": 1,
   "metadata": {},
   "outputs": [],
   "source": [
    "#!/usr/bin/env python\n",
    "\n",
    "from fanuc_pcdk_client import FanucPCDKClient\n",
    "from robot_loc_world import RobotLocWorld\n",
    "from robot_loc_joint import RobotLocJoint\n",
    "from time import sleep\n",
    "import random\n",
    "\n",
    "\n",
    "ROBOT_SPEED = 100\n",
    "ROBOT_SPEED_LINEAR = 100"
   ]
  },
  {
   "cell_type": "code",
   "execution_count": 2,
   "metadata": {},
   "outputs": [
    {
     "name": "stdout",
     "output_type": "stream",
     "text": [
      "Connecting to robot at 192.168.1.1\n",
      "Robot Status: \u001b[32mConnected\n",
      "\u001b[0m\n"
     ]
    }
   ],
   "source": [
    "# Robot init\n",
    "robot = FanucPCDKClient()\n",
    "robot.connect()\n",
    "\n",
    "# Run teach pendant program.\n",
    "robot.run_program('PCDK')\n",
    "robot.reset_alarms()\n",
    "\n",
    "# Adjust the speed of the robot\n",
    "robot.set_speed(ROBOT_SPEED)"
   ]
  },
  {
   "cell_type": "markdown",
   "metadata": {},
   "source": [
    "## Robot Motion"
   ]
  },
  {
   "cell_type": "markdown",
   "metadata": {},
   "source": [
    "There are three motions the robot can perform. Joint movements, world movements, and linear movements."
   ]
  },
  {
   "cell_type": "code",
   "execution_count": 45,
   "metadata": {},
   "outputs": [],
   "source": [
    "start_pos = RobotLocWorld(x=30.567, y=-500.840, z=-238.537, w=50.748, p=-87.120, r=40.224, f=False, u=True, t=True)\n",
    "# go to the start pos\n",
    "robot.move(start_pos, move_linear=True, speed=ROBOT_SPEED_LINEAR)"
   ]
  },
  {
   "cell_type": "code",
   "execution_count": 46,
   "metadata": {},
   "outputs": [],
   "source": [
    "penup = [RobotLocWorld(x=339.358, y=-570.557, z=-170.0, w=50.701, p=-87.118, r=40.271, f=False, u=True, t=True),\n",
    "        RobotLocWorld(x=251.525, y=-570.557, z=-170.0, w=50.701, p=-87.118, r=40.271, f=False, u=True, t=True),\n",
    "        RobotLocWorld(x=178.078, y=-570.557, z=-170.0, w=50.701, p=-87.118, r=40.271, f=False, u=True, t=True)]\n",
    "\n",
    "pendown = [RobotLocWorld(x=339.358,y=-570.557, z=-230, w=50.701, p=-87.118, r=40.271, f=False, u=True, t=True),\n",
    "             RobotLocWorld(x=251.525, y=-570.557, z=-230, w=50.701, p=-87.118, r=40.271, f=False, u=True, t=True),\n",
    "             RobotLocWorld(x=178.078, y=-570.557, z=-230, w=50.701, p=-87.118, r=40.271, f=False, u=True, t=True)]\n",
    "\n",
    "\n",
    "marker_pickup = RobotLocWorld(x=51.226, y=-699.629, z=-210.697, w=51.091, p=-87.130, r=39.914, f=False, u=True, t=True)\n",
    "post_marker_pickup = RobotLocWorld(x=51.226, y=-699.629, z=-130.0, w=51.091, p=-87.130, r=39.914, f=False, u=True, t=True)\n",
    "\n",
    "\n",
    "# robot.move(start_pos, move_linear=True, speed=ROBOT_SPEED_LINEAR)\n",
    "robot.move(marker_pickup, move_linear=True, speed=ROBOT_SPEED_LINEAR)\n",
    "robot.open_gripper()\n",
    "robot.move(post_marker_pickup, move_linear=True, speed=ROBOT_SPEED_LINEAR)\n",
    "# robot.move(penup[2], move_linear=True, speed=ROBOT_SPEED_LINEAR)\n",
    "# robot.move(pendown[2], move_linear=True, speed=ROBOT_SPEED_LINEAR)\n"
   ]
  },
  {
   "cell_type": "code",
   "execution_count": 47,
   "metadata": {},
   "outputs": [
    {
     "name": "stdout",
     "output_type": "stream",
     "text": [
      "what 3 letters do you want from this selection? S L O W U B\n",
      "1st letter \n",
      "L\n",
      "2nd letter \n",
      "U\n",
      "3rd letter \n",
      "W\n",
      "['L', 'U', 'W']\n",
      "W\n",
      "W\n",
      "U\n",
      "U\n",
      "L\n",
      "L\n"
     ]
    }
   ],
   "source": [
    "# S L O W U B\n",
    "letters = []\n",
    "print('what 3 letters do you want from this selection? S L O W U B')\n",
    "letter = input('1st letter \\n')\n",
    "letters.append(letter)\n",
    "letter = input('2nd letter \\n')\n",
    "letters.append(letter)\n",
    "letter = input('3rd letter \\n')\n",
    "letters.append(letter)\n",
    "\n",
    "print(letters)\n",
    "\n",
    "for i in range(0,3):\n",
    "    random_integer = random.randint(0, len(letters)-1)\n",
    "    \n",
    "    S_offset = [(10,5),(0,10),(10,15)]\n",
    "    L_offset = [(0,10),(-10,10)]\n",
    "    O_offset = [(0,10),(-7,10),(-7,0),(0.1,0)]\n",
    "    W_offset = [(-2,10),(-6,0),(-10,10),(-14,0)]\n",
    "    U_offset = [(0,10),(-7,10),(-7,0)]\n",
    "    B_offset = [(-10,0),(-10,3),(0,5),(-10,7),(-10,10),(0,10),(0.1,0)]\n",
    "    \n",
    "    #do the thing\n",
    "    print(letters[random_integer])\n",
    "    robot.move(penup[i], move_linear=True, speed=ROBOT_SPEED_LINEAR)\n",
    "    robot.move(pendown[i], move_linear=True, speed=ROBOT_SPEED_LINEAR)\n",
    "    \n",
    "    if letters[random_integer] == \"S\":\n",
    "        print(letters[random_integer])\n",
    "        for (x_offset,y_offset) in S_offset:\n",
    "            robot.move(RobotLocWorld(x=pendown[i].x + x_offset, y=pendown[i].y + y_offset, z=pendown[i].z, w=50.701, p=-87.118, r=40.271, f=False, u=True, t=True), move_linear=True, speed=ROBOT_SPEED_LINEAR)\n",
    "        \n",
    "        \n",
    "    elif letters[random_integer] == \"L\":\n",
    "        print(letters[random_integer])\n",
    "        for (x_offset,y_offset) in L_offset:\n",
    "            robot.move(RobotLocWorld(x=pendown[i].x + x_offset, y=pendown[i].y + y_offset, z=pendown[i].z, w=50.701, p=-87.118, r=40.271, f=False, u=True, t=True), move_linear=True, speed=ROBOT_SPEED_LINEAR)\n",
    "        \n",
    "    elif letters[random_integer] == \"O\":\n",
    "        print(letters[random_integer])\n",
    "        for (x_offset,y_offset) in O_offset:\n",
    "            robot.move(RobotLocWorld(x=pendown[i].x + x_offset, y=pendown[i].y + y_offset, z=pendown[i].z, w=50.701, p=-87.118, r=40.271, f=False, u=True, t=True), move_linear=True, speed=ROBOT_SPEED_LINEAR)\n",
    "        \n",
    "       \n",
    "    elif letters[random_integer] == \"W\":\n",
    "        print(letters[random_integer])\n",
    "        for (x_offset,y_offset) in W_offset:\n",
    "            robot.move(RobotLocWorld(x=pendown[i].x + x_offset, y=pendown[i].y + y_offset, z=pendown[i].z, w=50.701, p=-87.118, r=40.271, f=False, u=True, t=True), move_linear=True, speed=ROBOT_SPEED_LINEAR)\n",
    "        \n",
    "        \n",
    "    elif letters[random_integer] == \"U\":\n",
    "        print(letters[random_integer])\n",
    "        for (x_offset,y_offset) in U_offset:\n",
    "            robot.move(RobotLocWorld(x=pendown[i].x + x_offset, y=pendown[i].y + y_offset, z=pendown[i].z, w=50.701, p=-87.118, r=40.271, f=False, u=True, t=True), move_linear=True, speed=ROBOT_SPEED_LINEAR)\n",
    "        \n",
    "       \n",
    "    elif letters[random_integer] == \"B\":\n",
    "        print(letters[random_integer])\n",
    "        for (x_offset,y_offset) in B_offset:\n",
    "            robot.move(RobotLocWorld(x=pendown[i].x + x_offset, y=pendown[i].y + y_offset, z=pendown[i].z, w=50.701, p=-87.118, r=40.271, f=False, u=True, t=True), move_linear=True, speed=ROBOT_SPEED_LINEAR)\n",
    "        \n",
    "        \n",
    "    else:\n",
    "        print('error in letter selected')\n",
    "\n",
    "    letters.pop(random_integer)\n",
    "\n",
    "\n"
   ]
  },
  {
   "cell_type": "code",
   "execution_count": 48,
   "metadata": {},
   "outputs": [],
   "source": [
    "#finish up drawing\n",
    "\n",
    "robot.move(post_marker_pickup, move_linear=True, speed=ROBOT_SPEED_LINEAR)\n",
    "robot.move(marker_pickup, move_linear=True, speed=ROBOT_SPEED_LINEAR)\n",
    "\n",
    "# Open Gripper\n",
    "robot.close_gripper()"
   ]
  },
  {
   "cell_type": "markdown",
   "metadata": {},
   "source": [
    "## Gripper Actuation"
   ]
  },
  {
   "cell_type": "code",
   "execution_count": 3,
   "metadata": {},
   "outputs": [
    {
     "name": "stdout",
     "output_type": "stream",
     "text": [
      "Current world location: x=16.291; y=-673.307; z=-206.715; w=50.947; p=-87.122; r=40.066; f=False; u=True; t=True\n",
      "\n",
      "Current joint location: j1=-88.427; j2=85.954; j3=-57.108; j4=179.388; j5=-58.923; j6=-177.432\n",
      "\n"
     ]
    }
   ],
   "source": [
    "# Retrieve the current world XYZWPR coordinates of the robot\n",
    "loc_world = robot.get_position(\"world\")\n",
    "print(f'Current world location: {loc_world}\\n')\n",
    "\n",
    "# Retrieve the current joint coordinates of the robot\n",
    "loc_joint = robot.get_position(\"joint\")\n",
    "print(f'Current joint location: {loc_joint}\\n')"
   ]
  },
  {
   "cell_type": "code",
   "execution_count": 8,
   "metadata": {},
   "outputs": [],
   "source": [
    "robot.move(penup[0], move_linear=True, speed=ROBOT_SPEED_LINEAR)"
   ]
  },
  {
   "cell_type": "code",
   "execution_count": 53,
   "metadata": {},
   "outputs": [],
   "source": [
    "# Close gripper\n",
    "robot.open_gripper()"
   ]
  },
  {
   "cell_type": "code",
   "execution_count": 63,
   "metadata": {},
   "outputs": [],
   "source": [
    "# Open Gripper\n",
    "robot.close_gripper()"
   ]
  },
  {
   "cell_type": "markdown",
   "metadata": {},
   "source": [
    "## Close connection with robot"
   ]
  },
  {
   "cell_type": "code",
   "execution_count": null,
   "metadata": {},
   "outputs": [],
   "source": [
    "# Close the connection to the Fanuc PCDK server\n",
    "robot.close_connection()"
   ]
  }
 ],
 "metadata": {
  "kernelspec": {
   "display_name": "Python 3",
   "language": "python",
   "name": "python3"
  },
  "language_info": {
   "codemirror_mode": {
    "name": "ipython",
    "version": 3
   },
   "file_extension": ".py",
   "mimetype": "text/x-python",
   "name": "python",
   "nbconvert_exporter": "python",
   "pygments_lexer": "ipython3",
   "version": "3.7.3"
  }
 },
 "nbformat": 4,
 "nbformat_minor": 2
}
