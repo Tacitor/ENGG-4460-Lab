{
 "cells": [
  {
   "cell_type": "code",
   "execution_count": 1,
   "metadata": {},
   "outputs": [
    {
     "name": "stdout",
     "output_type": "stream",
     "text": [
      "Connecting to robot at 192.168.1.1\n",
      "Robot Status: \u001b[32mConnected\n",
      "\u001b[0m\n"
     ]
    }
   ],
   "source": [
    "#!/usr/bin/env python\n",
    "\n",
    "from fanuc_pcdk_client import FanucPCDKClient\n",
    "from robot_loc_world import RobotLocWorld\n",
    "from robot_loc_joint import RobotLocJoint\n",
    "from time import sleep\n",
    "\n",
    "ROBOT_SPEED = 30\n",
    "ROBOT_SPEED_LINEAR = 45\n",
    "\n",
    "# Robot init\n",
    "robot = FanucPCDKClient()\n",
    "robot.connect()\n",
    "\n",
    "# Run teach pendant program.\n",
    "robot.run_program('PCDK')\n",
    "robot.reset_alarms()\n",
    "\n",
    "# Adjust the speed of the robot\n",
    "robot.set_speed(ROBOT_SPEED)"
   ]
  },
  {
   "cell_type": "code",
   "execution_count": 10,
   "metadata": {},
   "outputs": [
    {
     "name": "stdout",
     "output_type": "stream",
     "text": [
      "Current world location: x=442.398; y=-20.029; z=-382.583; w=-179.999; p=0.006; r=-0.002; f=False; u=True; t=True\n",
      "\n"
     ]
    }
   ],
   "source": [
    "# Retrieve the current world XYZWPR coordinates of the robot\n",
    "loc_world = robot.get_position(\"world\")\n",
    "print(f'Current world location: {loc_world}\\n')\n"
   ]
  },
  {
   "cell_type": "code",
   "execution_count": 36,
   "metadata": {},
   "outputs": [],
   "source": [
    "# Move robot using world coordinates\n",
    "world_pos = RobotLocWorld(x=319.073, y=-17.380, z=-385.848, w=-180.000, p=0.0, r=0.0, f=False, u=True, t=True)\n",
    "robot.move(world_pos, move_linear=True, speed=ROBOT_SPEED_LINEAR)"
   ]
  },
  {
   "cell_type": "code",
   "execution_count": 32,
   "metadata": {
    "scrolled": true
   },
   "outputs": [],
   "source": [
    "# Move robot using linear motion (requires world coordinates)\n",
    "pre_grip_pos = RobotLocWorld(x=318.105, y=-17.319, z=-425.287, w=-180.0, p=0.0, r=0.0, f=False, u=True, t=True)\n",
    "robot.move(pre_grip_pos, move_linear=True, speed=ROBOT_SPEED_LINEAR)\n",
    "\n",
    "robot.close_gripper()"
   ]
  },
  {
   "cell_type": "code",
   "execution_count": 33,
   "metadata": {},
   "outputs": [],
   "source": [
    "# Move robot using linear motion (requires world coordinates)\n",
    "pre_enter_pos = RobotLocWorld(x=362.007, y=-20.024, z=-382.566, w=-180.000, p=0.0, r=-90, f=False, u=True, t=True)\n",
    "robot.move(pre_enter_pos, move_linear=True, speed=ROBOT_SPEED_LINEAR)\n"
   ]
  },
  {
   "cell_type": "code",
   "execution_count": 34,
   "metadata": {},
   "outputs": [],
   "source": [
    "# Move robot using linear motion (requires world coordinates)\n",
    "post_enter_pos = RobotLocWorld(x=362.007, y=-100.024, z=-382.566, w=-180.000, p=0.0, r=-90, f=False, u=True, t=True)\n",
    "robot.move(post_enter_pos, move_linear=True, speed=ROBOT_SPEED_LINEAR)"
   ]
  },
  {
   "cell_type": "code",
   "execution_count": 35,
   "metadata": {},
   "outputs": [],
   "source": [
    "# Open gripper\n",
    "robot.open_gripper()"
   ]
  },
  {
   "cell_type": "code",
   "execution_count": null,
   "metadata": {},
   "outputs": [],
   "source": [
    "# Close the connection to the Fanuc PCDK server\n",
    "robot.close_connection()"
   ]
  }
 ],
 "metadata": {
  "kernelspec": {
   "display_name": "Python 3",
   "language": "python",
   "name": "python3"
  },
  "language_info": {
   "codemirror_mode": {
    "name": "ipython",
    "version": 3
   },
   "file_extension": ".py",
   "mimetype": "text/x-python",
   "name": "python",
   "nbconvert_exporter": "python",
   "pygments_lexer": "ipython3",
   "version": "3.7.3"
  }
 },
 "nbformat": 4,
 "nbformat_minor": 2
}
