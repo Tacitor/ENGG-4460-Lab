{
 "cells": [
  {
   "cell_type": "code",
   "execution_count": 1,
   "metadata": {},
   "outputs": [],
   "source": [
    "#!/usr/bin/env python\n",
    "\n",
    "from fanuc_pcdk_client import FanucPCDKClient\n",
    "from robot_loc_world import RobotLocWorld\n",
    "from robot_loc_joint import RobotLocJoint\n",
    "from time import sleep\n",
    "\n",
    "ROBOT_SPEED = 60\n",
    "ROBOT_SPEED_LINEAR = 75"
   ]
  },
  {
   "cell_type": "code",
   "execution_count": 2,
   "metadata": {},
   "outputs": [
    {
     "name": "stdout",
     "output_type": "stream",
     "text": [
      "Connecting to robot at 192.168.1.1\n",
      "Robot Status: \u001b[32mConnected\n",
      "\u001b[0m\n"
     ]
    }
   ],
   "source": [
    "# Robot init\n",
    "robot = FanucPCDKClient()\n",
    "robot.connect()\n",
    "\n",
    "# Run teach pendant program.\n",
    "robot.run_program('PCDK')\n",
    "robot.reset_alarms()\n",
    "\n",
    "# Adjust the speed of the robot\n",
    "robot.set_speed(ROBOT_SPEED)"
   ]
  },
  {
   "cell_type": "markdown",
   "metadata": {},
   "source": [
    "## Robot Motion"
   ]
  },
  {
   "cell_type": "markdown",
   "metadata": {},
   "source": [
    "There are three motions the robot can perform. Joint movements, world movements, and linear movements."
   ]
  },
  {
   "cell_type": "code",
   "execution_count": 7,
   "metadata": {},
   "outputs": [],
   "source": [
    "# Move robot using joint coordinates\n",
    "joint_loc = RobotLocJoint(j1=20, j2=0, j3=-15, j4=0, j5=-25, j6=0)\n",
    "robot.move_joint(joint_loc)"
   ]
  },
  {
   "cell_type": "markdown",
   "metadata": {},
   "source": [
    "You can retrieve the current location of the robot in either joint or world coordinates with the following commands:"
   ]
  },
  {
   "cell_type": "code",
   "execution_count": 55,
   "metadata": {},
   "outputs": [
    {
     "name": "stdout",
     "output_type": "stream",
     "text": [
      "Current world location: x=334.950; y=-5.346; z=-261.537; w=-178.941; p=-1.058; r=2.881; f=False; u=True; t=True\n",
      "\n",
      "Current joint location: j1=-1.732; j2=36.401; j3=-56.533; j4=-2.123; j5=-32.516; j6=6.402\n",
      "\n"
     ]
    }
   ],
   "source": [
    "# Retrieve the current world XYZWPR coordinates of the robot\n",
    "loc_world = robot.get_position(\"world\")\n",
    "print(f'Current world location: {loc_world}\\n')\n",
    "\n",
    "# Retrieve the current joint coordinates of the robot\n",
    "loc_joint = robot.get_position(\"joint\")\n",
    "print(f'Current joint location: {loc_joint}\\n')"
   ]
  },
  {
   "cell_type": "code",
   "execution_count": 4,
   "metadata": {},
   "outputs": [],
   "source": [
    "pre_grip = [RobotLocWorld(x=195.808, y=-336.542, z=-242.961, w=-178.939, p=-1.068, r=-87.837, f=False, u=True, t=True),\n",
    "           RobotLocWorld(x=289.883, y=-336.542, z=-242.961, w=-178.939, p=-1.068, r=-87.837, f=False, u=True, t=True),\n",
    "           RobotLocWorld(x=402.660, y=-336.542, z=-242.961, w=-178.939, p=-1.068, r=-87.837, f=False, u=True, t=True),]\n",
    "\n",
    "\n",
    "post_grip = [RobotLocWorld(x=195.808, y=-336.542, z=-298.788, w=-178.939, p=-1.068, r=-87.837, f=False, u=True, t=True), \n",
    "            RobotLocWorld(x=289.883, y=-336.542, z=-298.788, w=-178.939, p=-1.068, r=-87.837, f=False, u=True, t=True),\n",
    "            RobotLocWorld(x=402.660, y=-336.542, z=-298.788, w=-178.939, p=-1.068, r=-87.837, f=False, u=True, t=True)]\n",
    "\n",
    "dropoff_pos = [RobotLocWorld(x=334.973, y=-5.331, z=-297.513, w=-178.941, p=-1.062, r=2.883, f=False, u=True, t=True),\n",
    "               RobotLocWorld(x=334.973, y=-5.331, z=-261.537, w=-178.941, p=-1.062, r=2.883, f=False, u=True, t=True),\n",
    "               RobotLocWorld(x=334.973, y=-5.331, z=-225.561, w=-178.941, p=-1.062, r=2.883, f=False, u=True, t=True)]\n",
    "\n",
    "pre_dropoff = RobotLocWorld(x=334.973, y=-5.331, z=-100.513, w=-178.941, p=-1.062, r=2.883, f=False, u=True, t=True)\n"
   ]
  },
  {
   "cell_type": "code",
   "execution_count": 11,
   "metadata": {},
   "outputs": [
    {
     "name": "stdout",
     "output_type": "stream",
     "text": [
      "how many blocks do you want (between 1 and 3)2\n"
     ]
    }
   ],
   "source": [
    "num = int(input('how many blocks do you want (between 1 and 3)'))\n",
    "robot.close_gripper() # open...\n",
    "for i in range(num):\n",
    "    robot.move(pre_grip[i], move_linear=True, speed=ROBOT_SPEED_LINEAR)\n",
    "    robot.move(post_grip[i], move_linear=True, speed=ROBOT_SPEED_LINEAR)\n",
    "    robot.open_gripper() #close...\n",
    "    robot.move(pre_grip[i], move_linear=True, speed=ROBOT_SPEED_LINEAR)\n",
    "    \n",
    "    robot.move(pre_dropoff, move_linear=True, speed=ROBOT_SPEED_LINEAR)\n",
    "    robot.move(dropoff_pos[i], move_linear=True, speed=ROBOT_SPEED_LINEAR)\n",
    "    robot.close_gripper() # open...\n",
    "    robot.move(pre_dropoff, move_linear=True, speed=ROBOT_SPEED_LINEAR)"
   ]
  },
  {
   "cell_type": "code",
   "execution_count": 5,
   "metadata": {},
   "outputs": [
    {
     "name": "stdout",
     "output_type": "stream",
     "text": [
      "> Already at location; skipping move\n"
     ]
    }
   ],
   "source": [
    "robot.move(pre_grip[1], move_linear=True, speed=ROBOT_SPEED_LINEAR)"
   ]
  },
  {
   "cell_type": "code",
   "execution_count": 6,
   "metadata": {},
   "outputs": [],
   "source": [
    "robot.move(post_grip[1], move_linear=True, speed=ROBOT_SPEED_LINEAR)"
   ]
  },
  {
   "cell_type": "code",
   "execution_count": 75,
   "metadata": {},
   "outputs": [],
   "source": [
    "robot.move(dropoff_pos[2], move_linear=True, speed=ROBOT_SPEED_LINEAR)"
   ]
  },
  {
   "cell_type": "code",
   "execution_count": 10,
   "metadata": {},
   "outputs": [],
   "source": [
    "robot.move(pre_dropoff, move_linear=True, speed=ROBOT_SPEED_LINEAR)"
   ]
  },
  {
   "cell_type": "code",
   "execution_count": null,
   "metadata": {},
   "outputs": [],
   "source": [
    "RobotLocWorld(x=362.007, y=-20.024, z=-382.566, w=-180.000, p=0.0, r=-90, f=False, u=True, t=True)\n",
    "robot.move(pre_enter_pos, move_linear=True, speed=ROBOT_SPEED_LINEAR)"
   ]
  },
  {
   "cell_type": "markdown",
   "metadata": {},
   "source": [
    "## Gripper Actuation"
   ]
  },
  {
   "cell_type": "code",
   "execution_count": 8,
   "metadata": {},
   "outputs": [],
   "source": [
    "# Close gripper\n",
    "robot.open_gripper()"
   ]
  },
  {
   "cell_type": "code",
   "execution_count": 9,
   "metadata": {},
   "outputs": [],
   "source": [
    "# Open Gripper\n",
    "robot.close_gripper()"
   ]
  },
  {
   "cell_type": "markdown",
   "metadata": {},
   "source": [
    "## Close connection with robot"
   ]
  },
  {
   "cell_type": "code",
   "execution_count": null,
   "metadata": {},
   "outputs": [],
   "source": [
    "# Close the connection to the Fanuc PCDK server\n",
    "robot.close_connection()"
   ]
  },
  {
   "cell_type": "code",
   "execution_count": null,
   "metadata": {},
   "outputs": [],
   "source": []
  }
 ],
 "metadata": {
  "kernelspec": {
   "display_name": "Python 3",
   "language": "python",
   "name": "python3"
  },
  "language_info": {
   "codemirror_mode": {
    "name": "ipython",
    "version": 3
   },
   "file_extension": ".py",
   "mimetype": "text/x-python",
   "name": "python",
   "nbconvert_exporter": "python",
   "pygments_lexer": "ipython3",
   "version": "3.7.3"
  }
 },
 "nbformat": 4,
 "nbformat_minor": 2
}
