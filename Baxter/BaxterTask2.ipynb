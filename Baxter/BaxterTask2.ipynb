{
 "metadata": {
  "name": ""
 },
 "nbformat": 3,
 "nbformat_minor": 0,
 "worksheets": [
  {
   "cells": [
    {
     "cell_type": "code",
     "collapsed": false,
     "input": [
      "import os\n",
      "import sys\n",
      "sys.path.insert(0, '../libraries')\n",
      "\n",
      "import pprint\n",
      "import math\n",
      "import copy\n",
      "import time\n",
      "import matplotlib.pyplot as plt\n",
      "import cv2\n",
      "\n",
      "import rospy\n",
      "from geometry_msgs.msg import PoseStamped, Pose, Point, Quaternion\n",
      "\n",
      "import baxter_interface\n",
      "from baxter_interface import RobotEnable\n",
      "from baxter_interface import CameraController\n",
      "from baxter_interface import Gripper\n",
      "from sensor_msgs.msg import Image, Range\n",
      "from baxter_core_msgs.msg import EndpointState\n",
      "\n",
      "from uogbaxter.baxter import Camera, ArmRangeSensor, ArmWorldPosition, ArmInverseKinematicsSolver\n",
      "pp = pprint.PrettyPrinter(indent=4)\n",
      "\n",
      "rospy.init_node('Hello_Baxter')\n",
      "\n",
      "baxter = RobotEnable()\n",
      "baxter.enable()\n"
     ],
     "language": "python",
     "metadata": {},
     "outputs": [
      {
       "output_type": "stream",
       "stream": "stdout",
       "text": [
        "[INFO] [WallTime: 1727191955.231224] Robot Enabled\n"
       ]
      }
     ],
     "prompt_number": 155
    },
    {
     "cell_type": "code",
     "collapsed": false,
     "input": [
      "fingers = Gripper('right')\n",
      "fingers.calibrate()\n",
      "\n",
      "range_right = ArmRangeSensor('right')"
     ],
     "language": "python",
     "metadata": {},
     "outputs": [],
     "prompt_number": 192
    },
    {
     "cell_type": "code",
     "collapsed": false,
     "input": [
      "left_pre_shelf = {   'left_e0': 0.0682621450609009,\n",
      "    'left_e1': -0.049854375606275945,\n",
      "    'left_s0': 0.9997719785043184,\n",
      "    'left_s1': -0.02032524543948173,\n",
      "    'left_w0': -0.0007669903939427069,\n",
      "    'left_w1': 0.10469418877317949,\n",
      "    'left_w2': -0.007286408742455715}\n",
      "\n",
      "right_pre_shelf = {   'right_e0': 0.4191602502896893,\n",
      "    'right_e1': 2.100403193812103,\n",
      "    'right_s0': -0.7186699991243164,\n",
      "    'right_s1': -0.3344078117590202,\n",
      "    'right_w0': 1.8584177245231788,\n",
      "    'right_w1': 1.3418496942027656,\n",
      "    'right_w2': -0.3079466431679968}\n",
      "\n",
      "fingers.open()\n",
      "right_arm.move_to_joint_positions(right_pre_shelf)\n",
      "left_arm.move_to_joint_positions(left_pre_shelf)"
     ],
     "language": "python",
     "metadata": {},
     "outputs": [],
     "prompt_number": 193
    },
    {
     "cell_type": "code",
     "collapsed": false,
     "input": [
      "input_valid = True\n",
      "\n",
      "fingers.open()\n",
      "\n",
      "while (input_valid):   \n",
      "    user_input = raw_input(\"Which Animal would you like to choose? (Hippo, Camel, Kangaroo): \")\n",
      "    \n",
      "    if (str.lower(user_input) == \"hippo\"):\n",
      "        input_valid = False\n",
      "        \n",
      "        animal_pos_pre_grip = {   'right_e0': 0.0682621450609009,\n",
      "                    'right_e1': 1.9385682206901915,\n",
      "                    'right_s0': -0.3378592685317624,\n",
      "                    'right_s1': -0.20210196880390327,\n",
      "                    'right_w0': 2.0294565823724025,\n",
      "                    'right_w1': 1.571179821991635,\n",
      "                    'right_w2': 2.88733533799732}\n",
      "    elif (str.lower(user_input) == \"camel\"):\n",
      "        input_valid = False\n",
      "        \n",
      "        animal_pos_pre_grip = {   'right_e0': 0.21015536794030168,\n",
      "                'right_e1': 2.176718738009402,\n",
      "                'right_s0': -0.5714078434873167,\n",
      "                'right_s1': -0.6020874592450249,\n",
      "                'right_w0': 1.8549662677504366,\n",
      "                'right_w1': 1.3242089151420835,\n",
      "                'right_w2': -0.04793689962141918}\n",
      "    elif (str.lower(user_input) == \"kangaroo\"):\n",
      "        input_valid = False\n",
      "        \n",
      "        animal_pos_pre_grip = {   'right_e0': 0.22511168062218448,\n",
      "                'right_e1': 1.4089613536727525,\n",
      "                'right_s0': -0.6458059116997592,\n",
      "                'right_s1': -0.431815591789744,\n",
      "                'right_w0': 1.5351312734763278,\n",
      "                'right_w1': 1.2103108416415915,\n",
      "                'right_w2': 0.5568350260024052}\n",
      "    else:\n",
      "        input_valid = True\n",
      "        print('not valid')\n",
      "    \n",
      "\n",
      "right_arm.move_to_joint_positions(animal_pos_pre_grip)\n",
      "    "
     ],
     "language": "python",
     "metadata": {},
     "outputs": [
      {
       "name": "stdout",
       "output_type": "stream",
       "stream": "stdout",
       "text": [
        "Which Animal would you like to choose? (Hippo, Camel, Kangaroo): hippo\n"
       ]
      }
     ],
     "prompt_number": 201
    },
    {
     "cell_type": "code",
     "collapsed": false,
     "input": [
      "animal_preset = range_right.distance < 10\n",
      "\n",
      "if animal_preset:\n",
      "    print('animal is present')\n",
      "    if (str.lower(user_input) == \"hippo\"):\n",
      "        intermediate_hippo = {   'right_e0': 0.12080098704597633,\n",
      "            'right_e1': 1.9270633647810511,\n",
      "            'right_s0': -0.5514660932448062,\n",
      "            'right_s1': -0.20900488234938763,\n",
      "            'right_w0': 1.84461189743221,\n",
      "            'right_w1': 1.4043594113090963,\n",
      "            'right_w2': 2.891937280360976}\n",
      "        \n",
      "        right_arm.move_to_joint_positions(intermediate_hippo)\n",
      "        \n",
      "        animal_pos_post_grip = {   'right_e0': 0.0559902987578176,\n",
      "            'right_e1': 1.9450876390387046,\n",
      "            'right_s0': -0.2044029399857314,\n",
      "            'right_s1': -0.44868938045648354,\n",
      "            'right_w0': 2.116126496887928,\n",
      "            'right_w1': 1.0216312047316856,\n",
      "            'right_w2': 3.03459749363432}\n",
      "    elif (str.lower(user_input) == \"camel\"):   \n",
      "        animal_pos_post_grip = {   'right_e0': 0.24927187803137973,\n",
      "                'right_e1': 2.1391362087062094,\n",
      "                'right_s0': -0.35626703798638737,\n",
      "                'right_s1': -0.6948932969120925,\n",
      "                'right_w0': 2.107306107357587,\n",
      "                'right_w1': 1.117505003974524,\n",
      "                'right_w2': -0.05944175553055978}\n",
      "    elif (str.lower(user_input) == \"kangaroo\"):\n",
      "        animal_pos_post_grip = {   'right_e0': 0.21820876707670012,\n",
      "                'right_e1': 1.4001409641424114,\n",
      "                'right_s0': -0.502378708032473,\n",
      "                'right_s1': -0.3198349942741088,\n",
      "                'right_w0': 1.8553497629474078,\n",
      "                'right_w1': 1.3242089151420835,\n",
      "                'right_w2': 0.30756314797102546}\n",
      "    \n",
      "    right_arm.move_to_joint_positions(animal_pos_post_grip)\n",
      "    fingers.close()\n",
      "else:\n",
      "    print('animal is not there')"
     ],
     "language": "python",
     "metadata": {},
     "outputs": [
      {
       "output_type": "stream",
       "stream": "stdout",
       "text": [
        "animal is present\n"
       ]
      }
     ],
     "prompt_number": 202
    },
    {
     "cell_type": "code",
     "collapsed": false,
     "input": [
      "if animal_preset:\n",
      "\n",
      "    basket_intermidate_pos = {   'right_e0': 0.19826701683418974,\n",
      "        'right_e1': 2.6112187961779454,\n",
      "        'right_s0': -0.7662234035487642,\n",
      "        'right_s1': -0.7428301965335116,\n",
      "        'right_w0': 1.6820099339163561,\n",
      "        'right_w1': 1.1412817061867477,\n",
      "        'right_w2': -0.39500005288049406}\n",
      "    \n",
      "    right_arm.move_to_joint_positions(basket_intermidate_pos)\n",
      "    \n",
      "    basket_intermidate_pos_2 = {   'right_e0': -0.3229029558498796,\n",
      "    'right_e1': 2.6127527769658307,\n",
      "    'right_s0': 1.0803059698683026,\n",
      "    'right_s1': -0.8271991398672094,\n",
      "    'right_w0': 3.055689729467744,\n",
      "    'right_w1': 1.5282283599308435,\n",
      "    'right_w2': 0.324436936637765}\n",
      "    \n",
      "    right_arm.move_to_joint_positions(basket_intermidate_pos_2)\n",
      "\n",
      "    basket_drop_pos = {   'right_e0': -0.12732040539448933,\n",
      "            'right_e1': 1.540883701430898,\n",
      "            'right_s0': 0.7631554419729933,\n",
      "            'right_s1': -0.9387962421858732,\n",
      "            'right_w0': 3.0560732246647153,\n",
      "            'right_w1': -0.9403302229737587,\n",
      "            'right_w2': -0.05368932757598948}\n",
      "    \n",
      "    right_arm.move_to_joint_positions(basket_drop_pos)\n",
      "    fingers.open()\n",
      "    "
     ],
     "language": "python",
     "metadata": {},
     "outputs": [],
     "prompt_number": 203
    },
    {
     "cell_type": "code",
     "collapsed": false,
     "input": [
      "right_arm = baxter_interface.Limb('right')\n",
      "right_angles = right_arm.joint_angles()\n",
      "\n",
      "distance_right = range_right.distance\n",
      "print(\"right distance: {:.2f}\\n\".format(distance_right))\n",
      "\n",
      "pp.pprint(right_angles)"
     ],
     "language": "python",
     "metadata": {},
     "outputs": [
      {
       "output_type": "stream",
       "stream": "stdout",
       "text": [
        "right distance: 65.54\n",
        "\n",
        "{   'right_e0': 0.12080098704597633,\n",
        "    'right_e1': 1.9270633647810511,\n",
        "    'right_s0': -0.5514660932448062,\n",
        "    'right_s1': -0.20900488234938763,\n",
        "    'right_w0': 1.84461189743221,\n",
        "    'right_w1': 1.4043594113090963,\n",
        "    'right_w2': 2.891937280360976}\n"
       ]
      }
     ],
     "prompt_number": 200
    },
    {
     "cell_type": "code",
     "collapsed": false,
     "input": [
      "baxter.disable()"
     ],
     "language": "python",
     "metadata": {},
     "outputs": [
      {
       "output_type": "stream",
       "stream": "stdout",
       "text": [
        "[INFO] [WallTime: 1727190235.284084] Robot Disabled\n"
       ]
      }
     ],
     "prompt_number": 33
    },
    {
     "cell_type": "code",
     "collapsed": false,
     "input": [],
     "language": "python",
     "metadata": {},
     "outputs": []
    },
    {
     "cell_type": "code",
     "collapsed": false,
     "input": [],
     "language": "python",
     "metadata": {},
     "outputs": []
    }
   ],
   "metadata": {}
  }
 ]
}