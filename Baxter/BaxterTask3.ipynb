{
 "metadata": {
  "name": ""
 },
 "nbformat": 3,
 "nbformat_minor": 0,
 "worksheets": [
  {
   "cells": [
    {
     "cell_type": "code",
     "collapsed": false,
     "input": [
      "import os\n",
      "import sys\n",
      "sys.path.insert(0, '../libraries')\n",
      "\n",
      "import pprint\n",
      "import math\n",
      "import copy\n",
      "import time\n",
      "import matplotlib.pyplot as plt\n",
      "import cv2\n",
      "import sys\n",
      "\n",
      "import rospy\n",
      "from geometry_msgs.msg import PoseStamped, Pose, Point, Quaternion\n",
      "\n",
      "import baxter_interface\n",
      "from baxter_interface import RobotEnable\n",
      "from baxter_interface import CameraController\n",
      "from baxter_interface import Gripper\n",
      "from sensor_msgs.msg import Image, Range\n",
      "from baxter_core_msgs.msg import EndpointState\n",
      "\n",
      "from uogbaxter.baxter import Camera, ArmRangeSensor, ArmWorldPosition, ArmInverseKinematicsSolver\n",
      "\n",
      "from geometry_msgs.msg import (\n",
      "    PoseStamped,\n",
      "    Pose,\n",
      "    Point,\n",
      "    Quaternion,\n",
      ")\n",
      "from std_msgs.msg import Header\n",
      "from baxter_core_msgs.srv import (\n",
      "    SolvePositionIK,\n",
      "    SolvePositionIKRequest,\n",
      ")\n",
      "\n",
      "pp = pprint.PrettyPrinter(indent=4)\n",
      "\n",
      "rospy.init_node('Hello_Baxter')\n",
      "\n",
      "baxter = RobotEnable()\n",
      "baxter.enable()\n"
     ],
     "language": "python",
     "metadata": {},
     "outputs": [
      {
       "output_type": "stream",
       "stream": "stdout",
       "text": [
        "[INFO] [WallTime: 1727799372.749420] Robot Enabled\n"
       ]
      }
     ],
     "prompt_number": 198
    },
    {
     "cell_type": "code",
     "collapsed": false,
     "input": [
      "right_arm = baxter_interface.Limb('right')\n",
      "left_arm = baxter_interface.Limb('left')\n",
      "right_angles = right_arm.joint_angles()\n",
      "left_angles = left_arm.joint_angles()\n",
      "\n",
      "fingers = Gripper('right')\n",
      "fingers.calibrate()\n",
      "\n",
      "range_right = ArmRangeSensor('right')\n",
      "\n",
      "#rospy.init_node(\"rsdk_ik_service_client\")\n",
      "\n",
      "right_namespace = \"ExternalTools/right/PositionKinematicsNode/IKService\"\n",
      "left_namespace = \"ExternalTools/left/PositionKinematicsNode/IKService\"\n",
      "\n",
      "right_ik_service = rospy.ServiceProxy(right_namespace, SolvePositionIK)\n",
      "left_ik_service = rospy.ServiceProxy(left_namespace, SolvePositionIK)\n",
      "\n",
      "right_ik_request = SolvePositionIKRequest()\n",
      "left_ik_request = SolvePositionIKRequest()\n",
      "\n",
      "ik_header = Header(stamp=rospy.Time.now(), frame_id='tcp')\n"
     ],
     "language": "python",
     "metadata": {},
     "outputs": [],
     "prompt_number": 199
    },
    {
     "cell_type": "code",
     "collapsed": false,
     "input": [
      "left_pre_shelf = {   'left_e0': 0.0682621450609009,\n",
      "    'left_e1': -0.049854375606275945,\n",
      "    'left_s0': 0.9997719785043184,\n",
      "    'left_s1': -0.02032524543948173,\n",
      "    'left_w0': -0.0007669903939427069,\n",
      "    'left_w1': 0.10469418877317949,\n",
      "    'left_w2': -0.007286408742455715}\n",
      "\n",
      "right_pre_shelf = {'right_e0': -0.4410194765170565,\n",
      "    'right_e1': 0.553383569229663,\n",
      "    'right_s0': 0.1572330307582549,\n",
      "    'right_s1': -0.34054373491056183,\n",
      "    'right_w0': 0.36623791310764253,\n",
      "    'right_w1': 1.4135632960364088,\n",
      "    'right_w2': 2.251500301418816}\n",
      "\n",
      "fingers.open()\n",
      "right_arm.move_to_joint_positions(right_pre_shelf)\n",
      "left_arm.move_to_joint_positions(left_pre_shelf)"
     ],
     "language": "python",
     "metadata": {},
     "outputs": [],
     "prompt_number": 207
    },
    {
     "cell_type": "code",
     "collapsed": false,
     "input": [
      "input_valid_num = 0\n",
      "animal = []\n",
      "\n",
      "fingers.open()\n",
      "\n",
      "while (input_valid_num <= 0):   \n",
      "    user_input = raw_input(\"Which Animal would you like to choose? (Hippo, Camel, Kangaroo): \")\n",
      "    \n",
      "    if (str.lower(user_input) == \"hippo\"):\n",
      "        animal.append(\"hippo\")\n",
      "        \n",
      "        input_valid_num += 1\n",
      "        \n",
      "    elif (str.lower(user_input) == \"camel\"):\n",
      "        animal.append(\"camel\")\n",
      "        \n",
      "        input_valid_num += 1\n",
      "        \n",
      "    elif (str.lower(user_input) == \"kangaroo\"):\n",
      "        animal.append(\"kangaroo\")\n",
      "        \n",
      "        input_valid_num += 1\n",
      "        \n",
      "    else:\n",
      "        print('not valid')\n",
      "        \n",
      "    \n",
      "animal_counter = 0\n",
      "\n",
      "animal_preset = range_right.distance < 5\n",
      "        "
     ],
     "language": "python",
     "metadata": {},
     "outputs": [
      {
       "name": "stdout",
       "output_type": "stream",
       "stream": "stdout",
       "text": [
        "Which Animal would you like to choose? (Hippo, Camel, Kangaroo): Hippo\n"
       ]
      }
     ],
     "prompt_number": 201
    },
    {
     "cell_type": "code",
     "collapsed": false,
     "input": [
      "base_x = 0.6171\n",
      "base_y = -0.8260\n",
      "base_z = 0.0003"
     ],
     "language": "python",
     "metadata": {},
     "outputs": [],
     "prompt_number": 208
    },
    {
     "cell_type": "code",
     "collapsed": false,
     "input": [
      "GridPosList = [{   'right_e0': -0.4410194765170565,\n",
      "    'right_e1': 0.553383569229663,\n",
      "    'right_s0': 0.1572330307582549,\n",
      "    'right_s1': -0.34054373491056183,\n",
      "    'right_w0': 0.36623791310764253,\n",
      "    'right_w1': 1.4135632960364088,\n",
      "    'right_w2': 2.251500301418816},\n",
      "               ]\n",
      "\n",
      "right_arm.move_to_joint_positions(GridPosList[0])\n",
      "\n",
      "drop_pos = {   'right_e0': -1.868388599644434,\n",
      "    'right_e1': 1.4802914603094242,\n",
      "    'right_s0': 1.3886361082332708,\n",
      "    'right_s1': -0.12540292940963257,\n",
      "    'right_w0': 1.4622671860517706,\n",
      "    'right_w1': 1.963878903690301,\n",
      "    'right_w2': 0.304878681592226}"
     ],
     "language": "python",
     "metadata": {},
     "outputs": [],
     "prompt_number": 209
    },
    {
     "cell_type": "code",
     "collapsed": false,
     "input": [
      "#Scan for animals\n",
      "\n",
      "base_x = 0.6171\n",
      "base_y = -0.8260\n",
      "base_z = 0.0003\n",
      "animal_locations = []\n",
      "\n",
      "for i in range(0,4):\n",
      "    for k in range(0,4):\n",
      "        right_pose = PoseStamped(\n",
      "                    header=Header(stamp=rospy.Time.now(), frame_id='base'),\n",
      "                    pose=Pose(\n",
      "                        position=Point(\n",
      "                            x= (base_x - (k*0.1)), \n",
      "                            y= (base_y + (i*0.087)), \n",
      "                            z= base_z,\n",
      "                        ),\n",
      "                        orientation=Quaternion(\n",
      "                            x=0.9993700082006982, \n",
      "                            y=0.022037838858640208, \n",
      "                            z=-0.022911762853810313, \n",
      "                            w=0.01577883044803225,\n",
      "                        ),\n",
      "                    ),\n",
      "                )\n",
      "        \n",
      "        right_ik_request.pose_stamp[:] = []\n",
      "        right_ik_request.pose_stamp.append(right_pose)\n",
      "        \n",
      "        #print right_ik_request.pose_stamp\n",
      "        \n",
      "        try:\n",
      "            rospy.wait_for_service(right_namespace, 5.0)\n",
      "            right_ik_response = right_ik_service(right_ik_request)\n",
      "            if (right_ik_response.isValid[0]):\n",
      "                right_limb_joints = dict(zip(right_ik_response.joints[0].name, right_ik_response.joints[0].position))\n",
      "                #pp.pprint(right_limb_joints)\n",
      "                \n",
      "                right_arm = baxter_interface.Limb('right')\n",
      "                right_arm.move_to_joint_positions(right_limb_joints)\n",
      "                distance_right = range_right.distance\n",
      "               \n",
      "                \n",
      "                if distance_right < 0.141:\n",
      "                    animal_locations.append((i,k))\n",
      "                    print(distance_right)\n",
      "                    \n",
      "                    sys.stdout.flush()\n",
      "                    \n",
      "            else:\n",
      "                print(\"INVALID POSE - No Valid Joint Solution Found.\")\n",
      "        except (rospy.ServiceException, rospy.ROSException), e:\n",
      "            rospy.logerr(\"Service call failed: %s\" % (e,))\n",
      "        \n",
      "        "
     ],
     "language": "python",
     "metadata": {},
     "outputs": [
      {
       "output_type": "stream",
       "stream": "stdout",
       "text": [
        "0.123999997973\n"
       ]
      },
      {
       "output_type": "stream",
       "stream": "stdout",
       "text": [
        "0.135000005364\n"
       ]
      },
      {
       "output_type": "stream",
       "stream": "stdout",
       "text": [
        "0.109999999404\n"
       ]
      }
     ],
     "prompt_number": 210
    },
    {
     "cell_type": "code",
     "collapsed": false,
     "input": [
      "#Pick up all found\n",
      "\n",
      "for (i_animal,k_animal) in animal_locations:\n",
      "    right_pose = PoseStamped(\n",
      "                header=Header(stamp=rospy.Time.now(), frame_id='base'),\n",
      "                pose=Pose(\n",
      "                    position=Point(\n",
      "                        x= (base_x - (k_animal*0.09)), \n",
      "                        y= (base_y + (i_animal*0.09)), \n",
      "                        z= base_z,\n",
      "                    ),\n",
      "                    orientation=Quaternion(\n",
      "                        x=0.6982761724688041, \n",
      "                        y=0.7148293314389633, \n",
      "                        z=-0.032394700330488725, \n",
      "                        w=0.019493518598233256,\n",
      "                    ),\n",
      "                ),\n",
      "            )\n",
      "    \n",
      "    right_ik_request.pose_stamp[:] = []\n",
      "    right_ik_request.pose_stamp.append(right_pose)\n",
      "    \n",
      "    try:\n",
      "        rospy.wait_for_service(right_namespace, 5.0)\n",
      "        right_ik_response = right_ik_service(right_ik_request)\n",
      "        if (right_ik_response.isValid[0]):\n",
      "            right_limb_joints = dict(zip(right_ik_response.joints[0].name, right_ik_response.joints[0].position))\n",
      "            #pp.pprint(right_limb_joints)\n",
      "            \n",
      "            right_arm = baxter_interface.Limb('right')\n",
      "            right_arm.move_to_joint_positions(right_limb_joints)\n",
      "            \n",
      "            \n",
      "            #Now grab it\n",
      "            right_pose = PoseStamped(\n",
      "                        header=Header(stamp=rospy.Time.now(), frame_id='base'),\n",
      "                        pose=Pose(\n",
      "                            position=Point(\n",
      "                                x= (base_x - (k_animal*0.09)), \n",
      "                                y= (base_y + (i_animal*0.09)), \n",
      "                                z= -0.0639,\n",
      "                            ),\n",
      "                            orientation=Quaternion(\n",
      "                                x=0.6982761724688041, \n",
      "                                y=0.7148293314389633, \n",
      "                                z=-0.032394700330488725, \n",
      "                                w=0.019493518598233256,\n",
      "                            ),\n",
      "                        ),\n",
      "                    )\n",
      "            \n",
      "            right_ik_request.pose_stamp[:] = []\n",
      "            right_ik_request.pose_stamp.append(right_pose)\n",
      "            \n",
      "            try:\n",
      "                rospy.wait_for_service(right_namespace, 5.0)\n",
      "                right_ik_response = right_ik_service(right_ik_request)\n",
      "                if (right_ik_response.isValid[0]):\n",
      "                    right_limb_joints = dict(zip(right_ik_response.joints[0].name, right_ik_response.joints[0].position))\n",
      "                    #pp.pprint(right_limb_joints)\n",
      "                    \n",
      "                    right_arm = baxter_interface.Limb('right')\n",
      "                    right_arm.move_to_joint_positions(right_limb_joints)\n",
      "                    \n",
      "                    fingers.close()\n",
      "                    \n",
      "                    time.sleep(0.5)\n",
      "                    \n",
      "                    right_arm.move_to_joint_positions(drop_pos)\n",
      "                    \n",
      "                    fingers.open()\n",
      "                        \n",
      "                else:\n",
      "                    print(\"INVALID POSE - No Valid Joint Solution Found.\")\n",
      "            except (rospy.ServiceException, rospy.ROSException), e:\n",
      "                rospy.logerr(\"Service call failed: %s\" % (e,))\n",
      "            \n",
      "            \n",
      "            \n",
      "                \n",
      "        else:\n",
      "            print(\"INVALID POSE - No Valid Joint Solution Found.\")\n",
      "    except (rospy.ServiceException, rospy.ROSException), e:\n",
      "        rospy.logerr(\"Service call failed: %s\" % (e,))\n",
      "    \n",
      "    "
     ],
     "language": "python",
     "metadata": {},
     "outputs": [],
     "prompt_number": 211
    },
    {
     "cell_type": "code",
     "collapsed": false,
     "input": [
      "# try:\n",
      "#     rospy.wait_for_service(right_namespace, 5.0)\n",
      "#     right_ik_response = right_ik_service(right_ik_request)\n",
      "#     if (right_ik_response.isValid[0]):\n",
      "#         right_limb_joints = dict(zip(right_ik_response.joints[0].name, right_ik_response.joints[0].position))\n",
      "#         pp.pprint(right_limb_joints)\n",
      "#     else:\n",
      "#         print(\"INVALID POSE - No Valid Joint Solution Found.\")\n",
      "# except (rospy.ServiceException, rospy.ROSException), e:\n",
      "#     rospy.logerr(\"Service call failed: %s\" % (e,))"
     ],
     "language": "python",
     "metadata": {},
     "outputs": [
      {
       "output_type": "stream",
       "stream": "stdout",
       "text": [
        "{   'right_e0': -0.47765316275756964,\n",
        "    'right_e1': 1.1045823096818503,\n",
        "    'right_s0': 0.17523238381177558,\n",
        "    'right_s1': -0.5910311255248342,\n",
        "    'right_w0': 0.3660218164432817,\n",
        "    'right_w1': 1.1510324521295,\n",
        "    'right_w2': 2.045304511793378}\n"
       ]
      }
     ],
     "prompt_number": 60
    },
    {
     "cell_type": "code",
     "collapsed": false,
     "input": [
      "# right_arm = baxter_interface.Limb('right')\n",
      "# right_arm.move_to_joint_positions(right_limb_joints)"
     ],
     "language": "python",
     "metadata": {},
     "outputs": [],
     "prompt_number": 58
    },
    {
     "cell_type": "code",
     "collapsed": false,
     "input": [
      "right_arm = baxter_interface.Limb('right')\n",
      "right_angles = right_arm.joint_angles()\n",
      "right_pose = right_arm.endpoint_pose()\n",
      "\n",
      "distance_right = range_right.distance\n",
      "print(\"right distance: {:.3f}\\n\".format(distance_right))\n",
      "print(animal_locations)\n",
      "\n",
      "pp.pprint(right_angles)\n",
      "\n",
      "pp.pprint(right_pose)"
     ],
     "language": "python",
     "metadata": {},
     "outputs": [
      {
       "output_type": "stream",
       "stream": "stdout",
       "text": [
        "right distance: 0.187\n",
        "\n",
        "[(0, 1), (3, 3)]\n",
        "{   'right_e0': -1.685077895492127,\n",
        "    'right_e1': 1.7506555741742285,\n",
        "    'right_s0': 0.5740923098661161,\n",
        "    'right_s1': 0.0947233136519243,\n",
        "    'right_w0': 1.5869031250674606,\n",
        "    'right_w1': 1.6858448858860697,\n",
        "    'right_w2': 1.0565292676560787}\n",
        "{   'orientation': Quaternion(x=0.9977497359885893, y=0.062087238663809254, z=-0.025042495946095544, w=-0.0036759388723500513),\n",
        "    'position': Point(x=0.3106017196533175, y=-0.7585153944191012, z=0.019770267100476746)}\n"
       ]
      }
     ],
     "prompt_number": 174
    },
    {
     "cell_type": "code",
     "collapsed": false,
     "input": [
      "test_pos = {   'right_e0': 0.0682621450609009,\n",
      "                    'right_e1': 1.9385682206901915,\n",
      "                    'right_s0': -0.3378592685317624,\n",
      "                    'right_s1': -0.20210196880390327,\n",
      "                    'right_w0': 2.0294565823724025,\n",
      "                    'right_w1': 1.571179821991635,\n",
      "                    'right_w2': 2.88733533799732}\n",
      "\n",
      "right_arm.move_to_joint_positions(test_pos)"
     ],
     "language": "python",
     "metadata": {},
     "outputs": [],
     "prompt_number": 131
    },
    {
     "cell_type": "code",
     "collapsed": false,
     "input": [
      "baxter.disable()"
     ],
     "language": "python",
     "metadata": {},
     "outputs": [
      {
       "output_type": "stream",
       "stream": "stdout",
       "text": [
        "[INFO] [WallTime: 1727796413.981315] Robot Disabled\n"
       ]
      }
     ],
     "prompt_number": 65
    }
   ],
   "metadata": {}
  }
 ]
}