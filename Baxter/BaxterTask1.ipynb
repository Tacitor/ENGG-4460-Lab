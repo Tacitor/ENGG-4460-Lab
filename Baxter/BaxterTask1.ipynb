{
 "metadata": {
  "name": ""
 },
 "nbformat": 3,
 "nbformat_minor": 0,
 "worksheets": [
  {
   "cells": [
    {
     "cell_type": "code",
     "collapsed": false,
     "input": [
      "import pprint\n",
      "import math\n",
      "import rospy\n",
      "import baxter_interface\n",
      "from baxter_interface import RobotEnable\n",
      "from baxter_interface import Gripper\n",
      "pp = pprint.PrettyPrinter(indent=4)\n",
      "\n",
      "rospy.init_node('Hello_Baxter')\n",
      "\n",
      "baxter = RobotEnable()\n",
      "baxter.enable()\n"
     ],
     "language": "python",
     "metadata": {},
     "outputs": [
      {
       "output_type": "stream",
       "stream": "stdout",
       "text": [
        "[INFO] [WallTime: 1726589242.520771] Robot Enabled\n"
       ]
      }
     ],
     "prompt_number": 190
    },
    {
     "cell_type": "code",
     "collapsed": false,
     "input": [
      "fingers = Gripper('right')\n",
      "fingers.calibrate()\n",
      "\n",
      "vacuum = Gripper('left')\n",
      "vacuum_sensor = baxter_interface.AnalogIO('left_vacuum_sensor_analog')"
     ],
     "language": "python",
     "metadata": {},
     "outputs": [],
     "prompt_number": 191
    },
    {
     "cell_type": "code",
     "collapsed": false,
     "input": [
      "left_pre_lid = {   'left_e0': -0.06289321230330196,\n",
      "    'left_e1': 0.0,\n",
      "    'left_s0': -1.456131262900229,\n",
      "    'left_s1': -0.26576217150114795,\n",
      "    'left_w0': 0.10469418877317949,\n",
      "    'left_w1': 1.8821944267354027,\n",
      "    'left_w2': 3.049937301513174}\n",
      "\n",
      "right_pre_jar = {   'right_e0': -0.03911651009107805,\n",
      "    'right_e1': 1.4419419406122889,\n",
      "    'right_s0': 0.06596117387907278,\n",
      "    'right_s1': -0.18561167533413506,\n",
      "    'right_w0': -1.7874711130834784,\n",
      "    'right_w1': -1.5704128315976924,\n",
      "    'right_w2': 0.2646116859102339}\n",
      "\n",
      "fingers.open()\n",
      "right_arm.move_to_joint_positions(right_pre_jar)\n",
      "left_arm.move_to_joint_positions(left_pre_lid)"
     ],
     "language": "python",
     "metadata": {},
     "outputs": [],
     "prompt_number": 192
    },
    {
     "cell_type": "code",
     "collapsed": false,
     "input": [
      "left_at_lid = {   'left_e0': 0.3336408213650775,\n",
      "    'left_e1': -0.0502378708032473,\n",
      "    'left_s0': -1.4917963162185648,\n",
      "    'left_s1': -0.0847524385306691,\n",
      "    'left_w0': -0.2580922675617209,\n",
      "    'left_w1': 1.7287963479468613,\n",
      "    'left_w2': 3.049937301513174}\n",
      "\n",
      "right_at_jar = {   'right_e0': 0.009970875121255189,\n",
      "    'right_e1': 1.6244856543706532,\n",
      "    'right_s0': 0.2784175130012026,\n",
      "    'right_s1': -0.1836941993492783,\n",
      "    'right_w0': -1.405126401703039,\n",
      "    'right_w1': -1.5773157451431767,\n",
      "    'right_w2': 0.09740778003072377}\n",
      "\n",
      "right_arm.move_to_joint_positions(right_at_jar)\n",
      "\n",
      "fingers.close()\n",
      "\n",
      "left_arm.move_to_joint_positions(left_at_lid)"
     ],
     "language": "python",
     "metadata": {},
     "outputs": [],
     "prompt_number": 193
    },
    {
     "cell_type": "code",
     "collapsed": false,
     "input": [
      "vacuum.close(timeout=60)"
     ],
     "language": "python",
     "metadata": {},
     "outputs": [
      {
       "metadata": {},
       "output_type": "pyout",
       "prompt_number": 194,
       "text": [
        "True"
       ]
      }
     ],
     "prompt_number": 194
    },
    {
     "cell_type": "code",
     "collapsed": false,
     "input": [
      "vacuum_strength = vacuum_sensor.state()\n",
      "if vacuum_strength > 50:\n",
      "   print \"I've got it! :)  [vacuum strength: \" + str(vacuum_strength) + \"]\"\n",
      "else:\n",
      "    print \"I'm not holding anything :(  [vacuum strength: \" + str(vacuum_strength) + \"]\""
     ],
     "language": "python",
     "metadata": {},
     "outputs": [
      {
       "output_type": "stream",
       "stream": "stdout",
       "text": [
        "I've got it! :)  [vacuum strength: 84.0]\n"
       ]
      }
     ],
     "prompt_number": 195
    },
    {
     "cell_type": "code",
     "collapsed": false,
     "input": [
      "left_at_lid = {   'left_e0': 0.3336408213650775,\n",
      "    'left_e1': -0.0502378708032473,\n",
      "    'left_s0': -1.4917963162185648,\n",
      "    'left_s1': -0.0847524385306691,\n",
      "    'left_w0': -0.2580922675617209,\n",
      "    'left_w1': 1.7287963479468613,\n",
      "    'left_w2': -3.0}\n",
      "\n",
      "\n",
      "left_arm.move_to_joint_positions(left_at_lid)"
     ],
     "language": "python",
     "metadata": {},
     "outputs": [],
     "prompt_number": 196
    },
    {
     "cell_type": "code",
     "collapsed": false,
     "input": [
      "left_pre_lid = {   'left_e0': -0.06289321230330196,\n",
      "    'left_e1': 0.0,\n",
      "    'left_s0': -1.456131262900229,\n",
      "    'left_s1': -0.26576217150114795,\n",
      "    'left_w0': 0.10469418877317949,\n",
      "    'left_w1': 1.8821944267354027,\n",
      "    'left_w2': -3.0}\n",
      "\n",
      "right_pre_jar = {   'right_e0': -0.03911651009107805,\n",
      "    'right_e1': 1.4419419406122889,\n",
      "    'right_s0': 0.06596117387907278,\n",
      "    'right_s1': -0.18561167533413506,\n",
      "    'right_w0': -1.7874711130834784,\n",
      "    'right_w1': -1.5704128315976924,\n",
      "    'right_w2': 0.2646116859102339}\n",
      "\n",
      "fingers.open()\n",
      "right_arm.move_to_joint_positions(right_pre_jar)\n",
      "left_arm.move_to_joint_positions(left_pre_lid)\n",
      "\n",
      "vacuum.open()"
     ],
     "language": "python",
     "metadata": {},
     "outputs": [
      {
       "metadata": {},
       "output_type": "pyout",
       "prompt_number": 197,
       "text": [
        "True"
       ]
      }
     ],
     "prompt_number": 197
    },
    {
     "cell_type": "code",
     "collapsed": false,
     "input": [
      "right_arm = baxter_interface.Limb('right')\n",
      "left_arm = baxter_interface.Limb('left')\n",
      "right_angles = right_arm.joint_angles()\n",
      "left_angles = left_arm.joint_angles()\n",
      "pp.pprint(right_angles)\n",
      "pp.pprint(left_angles)"
     ],
     "language": "python",
     "metadata": {},
     "outputs": [
      {
       "output_type": "stream",
       "stream": "stdout",
       "text": [
        "{   'right_e0': -0.0023009711818281204,\n",
        "    'right_e1': 1.6198837120069969,\n",
        "    'right_s0': 0.2649951811072052,\n",
        "    'right_s1': -0.17755827619773665,\n",
        "    'right_w0': -1.4135632960364088,\n",
        "    'right_w1': -1.576548754749234,\n",
        "    'right_w2': 0.10162622719740866}\n",
        "{   'left_e0': 0.3336408213650775,\n",
        "    'left_e1': -0.0502378708032473,\n",
        "    'left_s0': -1.4917963162185648,\n",
        "    'left_s1': -0.0847524385306691,\n",
        "    'left_w0': -0.2580922675617209,\n",
        "    'left_w1': 1.7287963479468613,\n",
        "    'left_w2': 1.6110633224766557}\n"
       ]
      }
     ],
     "prompt_number": 159
    },
    {
     "cell_type": "code",
     "collapsed": false,
     "input": [
      "fingers.close()"
     ],
     "language": "python",
     "metadata": {},
     "outputs": [
      {
       "metadata": {},
       "output_type": "pyout",
       "prompt_number": 60,
       "text": [
        "True"
       ]
      }
     ],
     "prompt_number": 60
    },
    {
     "cell_type": "code",
     "collapsed": false,
     "input": [
      "fingers.open()"
     ],
     "language": "python",
     "metadata": {},
     "outputs": [
      {
       "metadata": {},
       "output_type": "pyout",
       "prompt_number": 160,
       "text": [
        "True"
       ]
      }
     ],
     "prompt_number": 160
    },
    {
     "cell_type": "code",
     "collapsed": false,
     "input": [
      "baxter.disable()"
     ],
     "language": "python",
     "metadata": {},
     "outputs": [
      {
       "output_type": "stream",
       "stream": "stdout",
       "text": [
        "[INFO] [WallTime: 1726589619.702285] Robot Disabled\n"
       ]
      }
     ],
     "prompt_number": 198
    },
    {
     "cell_type": "code",
     "collapsed": false,
     "input": [],
     "language": "python",
     "metadata": {},
     "outputs": []
    }
   ],
   "metadata": {}
  }
 ]
}